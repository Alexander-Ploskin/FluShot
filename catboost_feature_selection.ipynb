{
 "cells": [
  {
   "cell_type": "code",
   "execution_count": 1,
   "metadata": {},
   "outputs": [],
   "source": [
    "import pandas as pd\n",
    "import numpy as np\n",
    "import matplotlib.pyplot as plt"
   ]
  },
  {
   "cell_type": "code",
   "execution_count": 2,
   "metadata": {},
   "outputs": [],
   "source": [
    "train_features = pd.read_csv('data/training_set_features.csv', index_col='respondent_id')\n",
    "train_labels = pd.read_csv('data/training_set_labels.csv', index_col='respondent_id')\n",
    "test_features = pd.read_csv('data/test_set_features.csv', index_col='respondent_id')"
   ]
  },
  {
   "cell_type": "code",
   "execution_count": null,
   "metadata": {},
   "outputs": [],
   "source": [
    "from sklearn.pipeline import Pipeline\n",
    "from sklearn.preprocessing import MinMaxScaler, OneHotEncoder\n",
    "from sklearn.impute import SimpleImputer\n",
    "from sklearn.compose import ColumnTransformer\n",
    "from sklearn.model_selection import train_test_split\n",
    "from category_encoders import OrdinalEncoder\n",
    "import xgboost as xgb"
   ]
  },
  {
   "cell_type": "markdown",
   "metadata": {},
   "source": [
    "## Feature selection"
   ]
  },
  {
   "cell_type": "code",
   "execution_count": 3,
   "metadata": {},
   "outputs": [],
   "source": [
    "from sklearn.feature_selection import SequentialFeatureSelector\n",
    "\n",
    "import xgboost as xgb\n",
    "from catboost import CatBoostClassifier\n",
    "\n",
    "from sklearn.pipeline import Pipeline\n",
    "from sklearn.preprocessing import MinMaxScaler, StandardScaler, OneHotEncoder\n",
    "from sklearn.impute import SimpleImputer\n",
    "from sklearn.compose import ColumnTransformer\n",
    "from category_encoders import OrdinalEncoder as oe"
   ]
  },
  {
   "cell_type": "code",
   "execution_count": 5,
   "metadata": {},
   "outputs": [],
   "source": [
    "train = pd.read_csv('./data/training_set_features.csv', index_col='respondent_id')\n",
    "test = pd.read_csv('./data/test_set_features.csv', index_col='respondent_id')\n",
    "labels = pd.read_csv('./data/training_set_labels.csv', index_col='respondent_id')"
   ]
  },
  {
   "cell_type": "code",
   "execution_count": null,
   "metadata": {},
   "outputs": [],
   "source": [
    "num_cols = train.select_dtypes('number').columns\n",
    "cat_cols = ['race', 'sex', 'marital_status', 'rent_or_own',  'hhs_geo_region', 'census_msa', 'employment_industry', 'employment_occupation']\n",
    "ord_cols = ['age_group', 'education',  'income_poverty',\n",
    "        'employment_status']"
   ]
  },
  {
   "cell_type": "code",
   "execution_count": null,
   "metadata": {},
   "outputs": [],
   "source": [
    "sfs_cat_boost = SequentialFeatureSelector(CatBoostClassifier(), n_features_to_select=8)\n",
    "sfs_xgboost = SequentialFeatureSelector(xgb(), n_features_to_select=8)\n",
    "\n",
    "# Get the index number of categorical features\n",
    "categorical_features_indices = np.where(X_train.dtypes != np.float)[0]\n"
   ]
  },
  {
   "cell_type": "code",
   "execution_count": null,
   "metadata": {},
   "outputs": [],
   "source": [
    "num_cols = train_features.select_dtypes(\"number\").columns\n",
    "\n",
    "# num_cols_chosen = ['doctor_recc_h1n1', 'doctor_recc_seasonal', 'opinion_h1n1_vacc_effective', 'opinion_h1n1_risk']\n",
    "\n",
    "cat_cols = [\n",
    "    \"race\",\n",
    "    \"sex\",\n",
    "    \"marital_status\",\n",
    "    \"rent_or_own\",\n",
    "    \"hhs_geo_region\",\n",
    "    \"census_msa\",\n",
    "    \"employment_industry\",\n",
    "    \"employment_occupation\",\n",
    "]\n",
    "ord_cols = [\"age_group\", \"education\", \"income_poverty\", \"employment_status\"]\n",
    "\n",
    "assert len(num_cols) + len(cat_cols) + len(ord_cols) == train_features.shape[1]"
   ]
  }
 ],
 "metadata": {
  "kernelspec": {
   "display_name": "data-science-intro",
   "language": "python",
   "name": "python3"
  },
  "language_info": {
   "codemirror_mode": {
    "name": "ipython",
    "version": 3
   },
   "file_extension": ".py",
   "mimetype": "text/x-python",
   "name": "python",
   "nbconvert_exporter": "python",
   "pygments_lexer": "ipython3",
   "version": "3.12.6"
  }
 },
 "nbformat": 4,
 "nbformat_minor": 2
}
